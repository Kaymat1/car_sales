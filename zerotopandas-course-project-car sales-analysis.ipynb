{
 "cells": [
  {
   "cell_type": "markdown",
   "metadata": {},
   "source": [
    "# Analyzing Cars in Nigeria Features and Their Prices\n",
    "\n",
    "Dataset containing prices of new and used cars in Nigeria. The dataset is gotten from kaggle. I am using pandas, numpy, matplotlib, and seaborn to analyse the dataset to get some insigths from it. I want to apply all the skills I leant from  [Data Analysis with Python: Zero to Pandas](zerotopandas.com) in the dataset.\n",
    "\n",
    "The dataset contains 3700+ cars and their prices in Naira. The data was web scraped from cars45, Nigeria's largest car sales website. The data contains features such as car make, model, year of manufacture, mileage, price, etc.\n"
   ]
  },
  {
   "cell_type": "markdown",
   "metadata": {},
   "source": [
    "## Downloading the Dataset\n",
    "\n",
    "Please visit https://www.kaggle.com/datasets/makindekayode/nigerian-car-prices-dataset to download the data."
   ]
  },
  {
   "cell_type": "code",
   "execution_count": 1,
   "metadata": {},
   "outputs": [],
   "source": [
    "!pip install jovian opendatasets --upgrade --quiet"
   ]
  },
  {
   "cell_type": "markdown",
   "metadata": {},
   "source": [
    "Let's begin by downloading the data, and listing the files within the dataset."
   ]
  },
  {
   "cell_type": "code",
   "execution_count": 1,
   "metadata": {},
   "outputs": [],
   "source": [
    "# Dataset url\n",
    "dataset_url = 'https://www.kaggle.com/datasets/makindekayode/nigerian-car-prices-dataset'"
   ]
  },
  {
   "cell_type": "code",
   "execution_count": 3,
   "metadata": {},
   "outputs": [
    {
     "name": "stdout",
     "output_type": "stream",
     "text": [
      "Please provide your Kaggle credentials to download this dataset. Learn more: http://bit.ly/kaggle-creds\n",
      "Your Kaggle username: oladapomatthewkayode\n",
      "Your Kaggle Key: ········\n",
      "Your Kaggle Key: ········\n",
      "Downloading nigerian-car-prices-dataset.zip to ./nigerian-car-prices-dataset\n"
     ]
    },
    {
     "name": "stderr",
     "output_type": "stream",
     "text": [
      "100%|██████████| 128k/128k [00:00<00:00, 50.8MB/s]"
     ]
    },
    {
     "name": "stdout",
     "output_type": "stream",
     "text": [
      "\n"
     ]
    },
    {
     "name": "stderr",
     "output_type": "stream",
     "text": [
      "\n"
     ]
    }
   ],
   "source": [
    "import opendatasets as od\n",
    "od.download(dataset_url)"
   ]
  },
  {
   "cell_type": "markdown",
   "metadata": {},
   "source": [
    "The dataset has been downloaded and extracted."
   ]
  },
  {
   "cell_type": "code",
   "execution_count": 4,
   "metadata": {},
   "outputs": [],
   "source": [
    "# Dataset directory path\n",
    "data_dir = './nigerian-car-prices-dataset'"
   ]
  },
  {
   "cell_type": "code",
   "execution_count": 5,
   "metadata": {},
   "outputs": [
    {
     "data": {
      "text/plain": [
       "['car_prices.csv']"
      ]
     },
     "execution_count": 5,
     "metadata": {},
     "output_type": "execute_result"
    }
   ],
   "source": [
    "import os\n",
    "os.listdir(data_dir)"
   ]
  },
  {
   "cell_type": "markdown",
   "metadata": {},
   "source": [
    "Let us save and upload our work to Jovian before continuing."
   ]
  },
  {
   "cell_type": "code",
   "execution_count": 6,
   "metadata": {},
   "outputs": [],
   "source": [
    "project_name = \"analyzing_igerian_car_features_and_prices\" # change this (use lowercase letters and hyphens only)"
   ]
  },
  {
   "cell_type": "code",
   "execution_count": 7,
   "metadata": {},
   "outputs": [],
   "source": [
    "!pip install jovian --upgrade -q"
   ]
  },
  {
   "cell_type": "code",
   "execution_count": 8,
   "metadata": {},
   "outputs": [],
   "source": [
    "import jovian"
   ]
  },
  {
   "cell_type": "code",
   "execution_count": 9,
   "metadata": {},
   "outputs": [
    {
     "data": {
      "application/javascript": [
       "window.require && require([\"base/js/namespace\"],function(Jupyter){Jupyter.notebook.save_checkpoint()})"
      ],
      "text/plain": [
       "<IPython.core.display.Javascript object>"
      ]
     },
     "metadata": {},
     "output_type": "display_data"
    },
    {
     "name": "stdout",
     "output_type": "stream",
     "text": [
      "[jovian] Updating notebook \"oladapomatthewkayode/analyzing-nigerian-car-features-and-prices\" on https://jovian.com\u001b[0m\n",
      "[jovian] Committed successfully! https://jovian.com/oladapomatthewkayode/analyzing-nigerian-car-features-and-prices\u001b[0m\n"
     ]
    },
    {
     "data": {
      "text/plain": [
       "'https://jovian.com/oladapomatthewkayode/analyzing-nigerian-car-features-and-prices'"
      ]
     },
     "execution_count": 9,
     "metadata": {},
     "output_type": "execute_result"
    }
   ],
   "source": [
    "jovian.commit(project=project_name)"
   ]
  },
  {
   "cell_type": "markdown",
   "metadata": {},
   "source": [
    "## Data Preparation and Cleaning\n",
    "\n",
    "**TODO** - Write some explanation here.\n",
    "\n"
   ]
  },
  {
   "cell_type": "markdown",
   "metadata": {},
   "source": [
    "> Instructions (delete this cell):\n",
    ">\n",
    "> - Load the dataset into a data frame using Pandas\n",
    "> - Explore the number of rows & columns, ranges of values etc.\n",
    "> - Handle missing, incorrect and invalid data\n",
    "> - Perform any additional steps (parsing dates, creating additional columns, merging multiple dataset etc.)"
   ]
  },
  {
   "cell_type": "code",
   "execution_count": 10,
   "metadata": {},
   "outputs": [],
   "source": [
    "import pandas as pd\n",
    "import numpy as np"
   ]
  },
  {
   "cell_type": "code",
   "execution_count": 11,
   "metadata": {},
   "outputs": [],
   "source": [
    "cars_df=pd.read_csv(data_dir + '/car_prices.csv')"
   ]
  },
  {
   "cell_type": "code",
   "execution_count": 12,
   "metadata": {},
   "outputs": [
    {
     "data": {
      "text/html": [
       "<div>\n",
       "<style scoped>\n",
       "    .dataframe tbody tr th:only-of-type {\n",
       "        vertical-align: middle;\n",
       "    }\n",
       "\n",
       "    .dataframe tbody tr th {\n",
       "        vertical-align: top;\n",
       "    }\n",
       "\n",
       "    .dataframe thead th {\n",
       "        text-align: right;\n",
       "    }\n",
       "</style>\n",
       "<table border=\"1\" class=\"dataframe\">\n",
       "  <thead>\n",
       "    <tr style=\"text-align: right;\">\n",
       "      <th></th>\n",
       "      <th>car_id</th>\n",
       "      <th>price</th>\n",
       "      <th>fuel type</th>\n",
       "      <th>gear type</th>\n",
       "      <th>Make</th>\n",
       "      <th>Model</th>\n",
       "      <th>Year of manufacture</th>\n",
       "      <th>Colour</th>\n",
       "      <th>Condition</th>\n",
       "      <th>Mileage</th>\n",
       "      <th>Engine Size</th>\n",
       "      <th>Selling Condition</th>\n",
       "      <th>Bought Condition</th>\n",
       "      <th>car</th>\n",
       "      <th>Trim</th>\n",
       "      <th>Drivetrain</th>\n",
       "      <th>Seats</th>\n",
       "      <th>Number of Cylinders</th>\n",
       "      <th>Horse Power</th>\n",
       "      <th>Registered city</th>\n",
       "    </tr>\n",
       "  </thead>\n",
       "  <tbody>\n",
       "    <tr>\n",
       "      <th>0</th>\n",
       "      <td>icwAaDOmX573WiRRnLFPT237</td>\n",
       "      <td>2812500</td>\n",
       "      <td>Petrol</td>\n",
       "      <td>Automatic</td>\n",
       "      <td>Toyota</td>\n",
       "      <td>Corolla</td>\n",
       "      <td>2004</td>\n",
       "      <td>Silver</td>\n",
       "      <td>Nigerian Used</td>\n",
       "      <td>251732.0</td>\n",
       "      <td>1800.0</td>\n",
       "      <td>Registered</td>\n",
       "      <td>Registered</td>\n",
       "      <td>NaN</td>\n",
       "      <td>NaN</td>\n",
       "      <td>NaN</td>\n",
       "      <td>NaN</td>\n",
       "      <td>NaN</td>\n",
       "      <td>NaN</td>\n",
       "      <td>NaN</td>\n",
       "    </tr>\n",
       "    <tr>\n",
       "      <th>1</th>\n",
       "      <td>ByZ3NlPy2x0arAIyrKazClUS</td>\n",
       "      <td>5000000</td>\n",
       "      <td>Petrol</td>\n",
       "      <td>Automatic</td>\n",
       "      <td>Acura</td>\n",
       "      <td>MDX</td>\n",
       "      <td>2007</td>\n",
       "      <td>Green</td>\n",
       "      <td>Foreign Used</td>\n",
       "      <td>224589.0</td>\n",
       "      <td>3700.0</td>\n",
       "      <td>Imported</td>\n",
       "      <td>Imported</td>\n",
       "      <td>SUV</td>\n",
       "      <td>NaN</td>\n",
       "      <td>NaN</td>\n",
       "      <td>NaN</td>\n",
       "      <td>NaN</td>\n",
       "      <td>NaN</td>\n",
       "      <td>NaN</td>\n",
       "    </tr>\n",
       "    <tr>\n",
       "      <th>2</th>\n",
       "      <td>2zG6Mh3kwyoTvWoeKHkV1oFH</td>\n",
       "      <td>7592000</td>\n",
       "      <td>Petrol</td>\n",
       "      <td>Automatic</td>\n",
       "      <td>Acura</td>\n",
       "      <td>TL</td>\n",
       "      <td>2012</td>\n",
       "      <td>White</td>\n",
       "      <td>Foreign Used</td>\n",
       "      <td>111334.0</td>\n",
       "      <td>3500.0</td>\n",
       "      <td>Imported</td>\n",
       "      <td>Imported</td>\n",
       "      <td>Sedan</td>\n",
       "      <td>SH-AWD Automatic Tech Package</td>\n",
       "      <td>All Wheel</td>\n",
       "      <td>5.0</td>\n",
       "      <td>6.0</td>\n",
       "      <td>309.0</td>\n",
       "      <td>NaN</td>\n",
       "    </tr>\n",
       "    <tr>\n",
       "      <th>3</th>\n",
       "      <td>7APLHOPlI93qsYK0ST4D4wB2</td>\n",
       "      <td>9880000</td>\n",
       "      <td>Petrol</td>\n",
       "      <td>Automatic</td>\n",
       "      <td>Land Rover</td>\n",
       "      <td>Range Rover</td>\n",
       "      <td>2012</td>\n",
       "      <td>Gray</td>\n",
       "      <td>Nigerian Used</td>\n",
       "      <td>72682.0</td>\n",
       "      <td>4000.0</td>\n",
       "      <td>Registered</td>\n",
       "      <td>Imported</td>\n",
       "      <td>SUV</td>\n",
       "      <td>NaN</td>\n",
       "      <td>NaN</td>\n",
       "      <td>NaN</td>\n",
       "      <td>NaN</td>\n",
       "      <td>NaN</td>\n",
       "      <td>NaN</td>\n",
       "    </tr>\n",
       "    <tr>\n",
       "      <th>4</th>\n",
       "      <td>zIrIDPJLd46eRQf9JFacc0e</td>\n",
       "      <td>4160000</td>\n",
       "      <td>Petrol</td>\n",
       "      <td>Automatic</td>\n",
       "      <td>Ford</td>\n",
       "      <td>Edge</td>\n",
       "      <td>2013</td>\n",
       "      <td>Gray</td>\n",
       "      <td>Nigerian Used</td>\n",
       "      <td>92118.0</td>\n",
       "      <td>3500.0</td>\n",
       "      <td>Registered</td>\n",
       "      <td>Registered</td>\n",
       "      <td>SUV</td>\n",
       "      <td>NaN</td>\n",
       "      <td>NaN</td>\n",
       "      <td>NaN</td>\n",
       "      <td>NaN</td>\n",
       "      <td>NaN</td>\n",
       "      <td>Lagos</td>\n",
       "    </tr>\n",
       "  </tbody>\n",
       "</table>\n",
       "</div>"
      ],
      "text/plain": [
       "                     car_id    price fuel type  gear type        Make  \\\n",
       "0  icwAaDOmX573WiRRnLFPT237  2812500    Petrol  Automatic      Toyota   \n",
       "1  ByZ3NlPy2x0arAIyrKazClUS  5000000    Petrol  Automatic       Acura   \n",
       "2  2zG6Mh3kwyoTvWoeKHkV1oFH  7592000    Petrol  Automatic       Acura   \n",
       "3  7APLHOPlI93qsYK0ST4D4wB2  9880000    Petrol  Automatic  Land Rover   \n",
       "4   zIrIDPJLd46eRQf9JFacc0e  4160000    Petrol  Automatic        Ford   \n",
       "\n",
       "         Model  Year of manufacture  Colour      Condition   Mileage  \\\n",
       "0      Corolla                 2004  Silver  Nigerian Used  251732.0   \n",
       "1          MDX                 2007   Green   Foreign Used  224589.0   \n",
       "2           TL                 2012   White   Foreign Used  111334.0   \n",
       "3  Range Rover                 2012    Gray  Nigerian Used   72682.0   \n",
       "4         Edge                 2013    Gray  Nigerian Used   92118.0   \n",
       "\n",
       "   Engine Size Selling Condition Bought Condition    car  \\\n",
       "0       1800.0        Registered       Registered    NaN   \n",
       "1       3700.0          Imported         Imported    SUV   \n",
       "2       3500.0          Imported         Imported  Sedan   \n",
       "3       4000.0        Registered         Imported    SUV   \n",
       "4       3500.0        Registered       Registered    SUV   \n",
       "\n",
       "                            Trim Drivetrain  Seats  Number of Cylinders  \\\n",
       "0                            NaN        NaN    NaN                  NaN   \n",
       "1                            NaN        NaN    NaN                  NaN   \n",
       "2  SH-AWD Automatic Tech Package  All Wheel    5.0                  6.0   \n",
       "3                            NaN        NaN    NaN                  NaN   \n",
       "4                            NaN        NaN    NaN                  NaN   \n",
       "\n",
       "   Horse Power Registered city  \n",
       "0          NaN             NaN  \n",
       "1          NaN             NaN  \n",
       "2        309.0             NaN  \n",
       "3          NaN             NaN  \n",
       "4          NaN           Lagos  "
      ]
     },
     "execution_count": 12,
     "metadata": {},
     "output_type": "execute_result"
    }
   ],
   "source": [
    "cars_df.head()"
   ]
  },
  {
   "cell_type": "code",
   "execution_count": 13,
   "metadata": {},
   "outputs": [
    {
     "data": {
      "text/plain": [
       "(3722, 20)"
      ]
     },
     "execution_count": 13,
     "metadata": {},
     "output_type": "execute_result"
    }
   ],
   "source": [
    "cars_df.shape"
   ]
  },
  {
   "cell_type": "code",
   "execution_count": 14,
   "metadata": {},
   "outputs": [
    {
     "name": "stdout",
     "output_type": "stream",
     "text": [
      "<class 'pandas.core.frame.DataFrame'>\n",
      "RangeIndex: 3722 entries, 0 to 3721\n",
      "Data columns (total 20 columns):\n",
      " #   Column               Non-Null Count  Dtype  \n",
      "---  ------               --------------  -----  \n",
      " 0   car_id               3722 non-null   object \n",
      " 1   price                3722 non-null   int64  \n",
      " 2   fuel type            3721 non-null   object \n",
      " 3   gear type            3720 non-null   object \n",
      " 4   Make                 3722 non-null   object \n",
      " 5   Model                3722 non-null   object \n",
      " 6   Year of manufacture  3722 non-null   int64  \n",
      " 7   Colour               3717 non-null   object \n",
      " 8   Condition            3722 non-null   object \n",
      " 9   Mileage              3663 non-null   float64\n",
      " 10  Engine Size          3661 non-null   float64\n",
      " 11  Selling Condition    3722 non-null   object \n",
      " 12  Bought Condition     3722 non-null   object \n",
      " 13  car                  1767 non-null   object \n",
      " 14  Trim                 879 non-null    object \n",
      " 15  Drivetrain           838 non-null    object \n",
      " 16  Seats                788 non-null    float64\n",
      " 17  Number of Cylinders  826 non-null    float64\n",
      " 18  Horse Power          755 non-null    float64\n",
      " 19  Registered city      1901 non-null   object \n",
      "dtypes: float64(5), int64(2), object(13)\n",
      "memory usage: 581.7+ KB\n"
     ]
    }
   ],
   "source": [
    "cars_df.info()"
   ]
  },
  {
   "cell_type": "code",
   "execution_count": 15,
   "metadata": {},
   "outputs": [
    {
     "data": {
      "text/plain": [
       "car_id                    0\n",
       "price                     0\n",
       "fuel type                 1\n",
       "gear type                 2\n",
       "Make                      0\n",
       "Model                     0\n",
       "Year of manufacture       0\n",
       "Colour                    5\n",
       "Condition                 0\n",
       "Mileage                  59\n",
       "Engine Size              61\n",
       "Selling Condition         0\n",
       "Bought Condition          0\n",
       "car                    1955\n",
       "Trim                   2843\n",
       "Drivetrain             2884\n",
       "Seats                  2934\n",
       "Number of Cylinders    2896\n",
       "Horse Power            2967\n",
       "Registered city        1821\n",
       "dtype: int64"
      ]
     },
     "execution_count": 15,
     "metadata": {},
     "output_type": "execute_result"
    }
   ],
   "source": [
    "cars_df.isna().sum()"
   ]
  },
  {
   "cell_type": "code",
   "execution_count": 16,
   "metadata": {},
   "outputs": [],
   "source": [
    "#Drop some columns with large missing values\n",
    "drop_cols=['car', 'Trim', 'Drivetrain', 'Seats', 'Number of Cylinders','Horse Power', 'Registered city']\n",
    "cars_df.drop(columns=drop_cols, inplace=True)"
   ]
  },
  {
   "cell_type": "code",
   "execution_count": 17,
   "metadata": {
    "scrolled": true
   },
   "outputs": [
    {
     "name": "stdout",
     "output_type": "stream",
     "text": [
      "<class 'pandas.core.frame.DataFrame'>\n",
      "RangeIndex: 3722 entries, 0 to 3721\n",
      "Data columns (total 13 columns):\n",
      " #   Column               Non-Null Count  Dtype  \n",
      "---  ------               --------------  -----  \n",
      " 0   car_id               3722 non-null   object \n",
      " 1   price                3722 non-null   int64  \n",
      " 2   fuel type            3721 non-null   object \n",
      " 3   gear type            3720 non-null   object \n",
      " 4   Make                 3722 non-null   object \n",
      " 5   Model                3722 non-null   object \n",
      " 6   Year of manufacture  3722 non-null   int64  \n",
      " 7   Colour               3717 non-null   object \n",
      " 8   Condition            3722 non-null   object \n",
      " 9   Mileage              3663 non-null   float64\n",
      " 10  Engine Size          3661 non-null   float64\n",
      " 11  Selling Condition    3722 non-null   object \n",
      " 12  Bought Condition     3722 non-null   object \n",
      "dtypes: float64(2), int64(2), object(9)\n",
      "memory usage: 378.1+ KB\n"
     ]
    }
   ],
   "source": [
    "cars_df.info()"
   ]
  },
  {
   "cell_type": "code",
   "execution_count": 18,
   "metadata": {},
   "outputs": [],
   "source": [
    "#Rename some columns\n",
    "cars_df.rename(columns = {\n",
    "    'Make' : 'make',\n",
    "    'Year of manufacture':'year_of_manufacture',\n",
    "    'Colour': 'colour',\n",
    "    'Condition': 'condition',\n",
    "    'Mileage': 'mileage',\n",
    "    'Engine Size': 'engine_size',\n",
    "    'Selling Condition': 'selling_condition',\n",
    "    'Bought Condition' : 'bought_condition'\n",
    "}, inplace=True)"
   ]
  },
  {
   "cell_type": "code",
   "execution_count": 19,
   "metadata": {},
   "outputs": [
    {
     "name": "stdout",
     "output_type": "stream",
     "text": [
      "<class 'pandas.core.frame.DataFrame'>\n",
      "RangeIndex: 3722 entries, 0 to 3721\n",
      "Data columns (total 13 columns):\n",
      " #   Column               Non-Null Count  Dtype  \n",
      "---  ------               --------------  -----  \n",
      " 0   car_id               3722 non-null   object \n",
      " 1   price                3722 non-null   int64  \n",
      " 2   fuel type            3721 non-null   object \n",
      " 3   gear type            3720 non-null   object \n",
      " 4   make                 3722 non-null   object \n",
      " 5   Model                3722 non-null   object \n",
      " 6   year_of_manufacture  3722 non-null   int64  \n",
      " 7   colour               3717 non-null   object \n",
      " 8   condition            3722 non-null   object \n",
      " 9   mileage              3663 non-null   float64\n",
      " 10  engine_size          3661 non-null   float64\n",
      " 11  selling_condition    3722 non-null   object \n",
      " 12  bought_condition     3722 non-null   object \n",
      "dtypes: float64(2), int64(2), object(9)\n",
      "memory usage: 378.1+ KB\n"
     ]
    }
   ],
   "source": [
    "cars_df.info()"
   ]
  },
  {
   "cell_type": "code",
   "execution_count": 20,
   "metadata": {},
   "outputs": [],
   "source": [
    "cars_df.rename(columns = {\n",
    "    'fuel type' : 'fuel_type',\n",
    "    'gear type':'gear_type',\n",
    "}, inplace=True)"
   ]
  },
  {
   "cell_type": "code",
   "execution_count": 21,
   "metadata": {},
   "outputs": [
    {
     "name": "stdout",
     "output_type": "stream",
     "text": [
      "<class 'pandas.core.frame.DataFrame'>\n",
      "RangeIndex: 3722 entries, 0 to 3721\n",
      "Data columns (total 13 columns):\n",
      " #   Column               Non-Null Count  Dtype  \n",
      "---  ------               --------------  -----  \n",
      " 0   car_id               3722 non-null   object \n",
      " 1   price                3722 non-null   int64  \n",
      " 2   fuel_type            3721 non-null   object \n",
      " 3   gear_type            3720 non-null   object \n",
      " 4   make                 3722 non-null   object \n",
      " 5   Model                3722 non-null   object \n",
      " 6   year_of_manufacture  3722 non-null   int64  \n",
      " 7   colour               3717 non-null   object \n",
      " 8   condition            3722 non-null   object \n",
      " 9   mileage              3663 non-null   float64\n",
      " 10  engine_size          3661 non-null   float64\n",
      " 11  selling_condition    3722 non-null   object \n",
      " 12  bought_condition     3722 non-null   object \n",
      "dtypes: float64(2), int64(2), object(9)\n",
      "memory usage: 378.1+ KB\n"
     ]
    }
   ],
   "source": [
    "cars_df.info()"
   ]
  },
  {
   "cell_type": "code",
   "execution_count": 22,
   "metadata": {
    "scrolled": true
   },
   "outputs": [],
   "source": [
    "#Drop missing rows\n",
    "cars_df.dropna(inplace=True)"
   ]
  },
  {
   "cell_type": "code",
   "execution_count": 23,
   "metadata": {
    "scrolled": false
   },
   "outputs": [
    {
     "name": "stdout",
     "output_type": "stream",
     "text": [
      "<class 'pandas.core.frame.DataFrame'>\n",
      "Int64Index: 3600 entries, 0 to 3721\n",
      "Data columns (total 13 columns):\n",
      " #   Column               Non-Null Count  Dtype  \n",
      "---  ------               --------------  -----  \n",
      " 0   car_id               3600 non-null   object \n",
      " 1   price                3600 non-null   int64  \n",
      " 2   fuel_type            3600 non-null   object \n",
      " 3   gear_type            3600 non-null   object \n",
      " 4   make                 3600 non-null   object \n",
      " 5   Model                3600 non-null   object \n",
      " 6   year_of_manufacture  3600 non-null   int64  \n",
      " 7   colour               3600 non-null   object \n",
      " 8   condition            3600 non-null   object \n",
      " 9   mileage              3600 non-null   float64\n",
      " 10  engine_size          3600 non-null   float64\n",
      " 11  selling_condition    3600 non-null   object \n",
      " 12  bought_condition     3600 non-null   object \n",
      "dtypes: float64(2), int64(2), object(9)\n",
      "memory usage: 393.8+ KB\n"
     ]
    }
   ],
   "source": [
    "cars_df.info()"
   ]
  },
  {
   "cell_type": "code",
   "execution_count": 24,
   "metadata": {},
   "outputs": [
    {
     "data": {
      "text/plain": [
       "array(['Automatic', 'Manual', 'CVT'], dtype=object)"
      ]
     },
     "execution_count": 24,
     "metadata": {},
     "output_type": "execute_result"
    }
   ],
   "source": [
    "cars_df.gear_type.unique()"
   ]
  },
  {
   "cell_type": "code",
   "execution_count": 25,
   "metadata": {},
   "outputs": [],
   "source": [
    "import jovian"
   ]
  },
  {
   "cell_type": "code",
   "execution_count": 26,
   "metadata": {},
   "outputs": [
    {
     "data": {
      "application/javascript": [
       "window.require && require([\"base/js/namespace\"],function(Jupyter){Jupyter.notebook.save_checkpoint()})"
      ],
      "text/plain": [
       "<IPython.core.display.Javascript object>"
      ]
     },
     "metadata": {},
     "output_type": "display_data"
    },
    {
     "name": "stdout",
     "output_type": "stream",
     "text": [
      "[jovian] Updating notebook \"oladapomatthewkayode/analyzing-nigerian-car-features-and-prices\" on https://jovian.com\u001b[0m\n",
      "[jovian] Committed successfully! https://jovian.com/oladapomatthewkayode/analyzing-nigerian-car-features-and-prices\u001b[0m\n"
     ]
    },
    {
     "data": {
      "text/plain": [
       "'https://jovian.com/oladapomatthewkayode/analyzing-nigerian-car-features-and-prices'"
      ]
     },
     "execution_count": 26,
     "metadata": {},
     "output_type": "execute_result"
    }
   ],
   "source": [
    "jovian.commit()"
   ]
  },
  {
   "cell_type": "markdown",
   "metadata": {},
   "source": [
    "## Exploratory Analysis and Visualization\n",
    "\n",
    "**TODO** - write some explanation here.\n",
    "\n"
   ]
  },
  {
   "cell_type": "markdown",
   "metadata": {},
   "source": [
    "> Instructions (delete this cell)\n",
    "> \n",
    "> - Compute the mean, sum, range and other interesting statistics for numeric columns\n",
    "> - Explore distributions of numeric columns using histograms etc.\n",
    "> - Explore relationship between columns using scatter plots, bar charts etc.\n",
    "> - Make a note of interesting insights from the exploratory analysis"
   ]
  },
  {
   "cell_type": "markdown",
   "metadata": {},
   "source": [
    "Let's begin by importing`matplotlib.pyplot` and `seaborn`."
   ]
  },
  {
   "cell_type": "code",
   "execution_count": 27,
   "metadata": {},
   "outputs": [],
   "source": [
    "import seaborn as sns\n",
    "import matplotlib\n",
    "import matplotlib.pyplot as plt\n",
    "%matplotlib inline\n",
    "\n",
    "sns.set_style('darkgrid')\n",
    "matplotlib.rcParams['font.size'] = 14\n",
    "matplotlib.rcParams['figure.figsize'] = (9, 5)\n",
    "matplotlib.rcParams['figure.facecolor'] = '#00000000'"
   ]
  },
  {
   "cell_type": "markdown",
   "metadata": {},
   "source": [
    "**TODO** - Explore one or more columns by plotting a graph below, and add some explanation about it"
   ]
  },
  {
   "cell_type": "code",
   "execution_count": 28,
   "metadata": {
    "scrolled": true
   },
   "outputs": [
    {
     "data": {
      "text/plain": [
       "count    3.600000e+03\n",
       "mean     4.540438e+06\n",
       "std      4.342391e+06\n",
       "min      5.500000e+05\n",
       "25%      2.340000e+06\n",
       "50%      3.360000e+06\n",
       "75%      5.040000e+06\n",
       "max      6.240000e+07\n",
       "Name: price, dtype: float64"
      ]
     },
     "execution_count": 28,
     "metadata": {},
     "output_type": "execute_result"
    }
   ],
   "source": [
    "cars_df.price.describe()"
   ]
  },
  {
   "cell_type": "markdown",
   "metadata": {},
   "source": [
    "The prices of cars in the dataset ranges from 500,000 to 62400000. The mean is bigger than the median. 75% of the car prices are less than 5 million naira"
   ]
  },
  {
   "cell_type": "code",
   "execution_count": 29,
   "metadata": {
    "scrolled": false
   },
   "outputs": [
    {
     "data": {
      "image/png": "[encoded data removed]",
      "text/plain": [
       "<Figure size 648x360 with 1 Axes>"
      ]
     },
     "metadata": {
      "needs_background": "light"
     },
     "output_type": "display_data"
    }
   ],
   "source": [
    "cars_df.price.hist(bins=np.arange(0, 70000000, 5000000))\n",
    "plt.xlabel(\"The prices of Car\")\n",
    "plt.ylabel(\"The Frequency of Car Prices\")\n",
    "plt.title(\"The Car Prices Distribution\");"
   ]
  },
  {
   "cell_type": "markdown",
   "metadata": {},
   "source": [
    "The prices in the dataset is skew to the right since the majority of the cars are less than 5 million naira"
   ]
  },
  {
   "cell_type": "code",
   "execution_count": 30,
   "metadata": {},
   "outputs": [
    {
     "data": {
      "image/png": "[encoded data removed]",
      "text/plain": [
       "<Figure size 648x360 with 1 Axes>"
      ]
     },
     "metadata": {
      "needs_background": "light"
     },
     "output_type": "display_data"
    }
   ],
   "source": [
    "plt.boxplot(cars_df[\"price\"])\n",
    "plt.title(\"The Car Prices Distribution using Boxplot\");"
   ]
  },
  {
   "cell_type": "code",
   "execution_count": 131,
   "metadata": {},
   "outputs": [
    {
     "data": {
      "text/html": [
       "<div>\n",
       "<style scoped>\n",
       "    .dataframe tbody tr th:only-of-type {\n",
       "        vertical-align: middle;\n",
       "    }\n",
       "\n",
       "    .dataframe tbody tr th {\n",
       "        vertical-align: top;\n",
       "    }\n",
       "\n",
       "    .dataframe thead th {\n",
       "        text-align: right;\n",
       "    }\n",
       "</style>\n",
       "<table border=\"1\" class=\"dataframe\">\n",
       "  <thead>\n",
       "    <tr style=\"text-align: right;\">\n",
       "      <th></th>\n",
       "      <th>car_id</th>\n",
       "      <th>price</th>\n",
       "      <th>fuel_type</th>\n",
       "      <th>gear_type</th>\n",
       "      <th>make</th>\n",
       "      <th>Model</th>\n",
       "      <th>year_of_manufacture</th>\n",
       "      <th>colour</th>\n",
       "      <th>condition</th>\n",
       "      <th>mileage</th>\n",
       "      <th>engine_size</th>\n",
       "      <th>selling_condition</th>\n",
       "      <th>bought_condition</th>\n",
       "    </tr>\n",
       "  </thead>\n",
       "  <tbody>\n",
       "    <tr>\n",
       "      <th>0</th>\n",
       "      <td>icwAaDOmX573WiRRnLFPT237</td>\n",
       "      <td>2812500</td>\n",
       "      <td>Petrol</td>\n",
       "      <td>Automatic</td>\n",
       "      <td>Toyota</td>\n",
       "      <td>Corolla</td>\n",
       "      <td>2004</td>\n",
       "      <td>Silver</td>\n",
       "      <td>Nigerian Used</td>\n",
       "      <td>251732.0</td>\n",
       "      <td>1800.0</td>\n",
       "      <td>Registered</td>\n",
       "      <td>Registered</td>\n",
       "    </tr>\n",
       "    <tr>\n",
       "      <th>4</th>\n",
       "      <td>zIrIDPJLd46eRQf9JFacc0e</td>\n",
       "      <td>4160000</td>\n",
       "      <td>Petrol</td>\n",
       "      <td>Automatic</td>\n",
       "      <td>Ford</td>\n",
       "      <td>Edge</td>\n",
       "      <td>2013</td>\n",
       "      <td>Gray</td>\n",
       "      <td>Nigerian Used</td>\n",
       "      <td>92118.0</td>\n",
       "      <td>3500.0</td>\n",
       "      <td>Registered</td>\n",
       "      <td>Registered</td>\n",
       "    </tr>\n",
       "    <tr>\n",
       "      <th>8</th>\n",
       "      <td>fYxBktHsYw4js3ZgJnHwl2zU</td>\n",
       "      <td>3885000</td>\n",
       "      <td>Petrol</td>\n",
       "      <td>Automatic</td>\n",
       "      <td>Toyota</td>\n",
       "      <td>Camry</td>\n",
       "      <td>2007</td>\n",
       "      <td>Gold</td>\n",
       "      <td>Foreign Used</td>\n",
       "      <td>159726.0</td>\n",
       "      <td>3000.0</td>\n",
       "      <td>Imported</td>\n",
       "      <td>Imported</td>\n",
       "    </tr>\n",
       "    <tr>\n",
       "      <th>10</th>\n",
       "      <td>p2ie9iYOamIlpP6wyVmKi3d5</td>\n",
       "      <td>3432000</td>\n",
       "      <td>Petrol</td>\n",
       "      <td>Automatic</td>\n",
       "      <td>Toyota</td>\n",
       "      <td>Camry</td>\n",
       "      <td>2011</td>\n",
       "      <td>Black</td>\n",
       "      <td>Nigerian Used</td>\n",
       "      <td>128048.0</td>\n",
       "      <td>2500.0</td>\n",
       "      <td>Registered</td>\n",
       "      <td>Imported</td>\n",
       "    </tr>\n",
       "    <tr>\n",
       "      <th>14</th>\n",
       "      <td>aa8nq9ZiuiVXOMzlxJvdOPUK</td>\n",
       "      <td>3990000</td>\n",
       "      <td>Diesel</td>\n",
       "      <td>Manual</td>\n",
       "      <td>Lancia</td>\n",
       "      <td>Thesis</td>\n",
       "      <td>2007</td>\n",
       "      <td>White</td>\n",
       "      <td>Foreign Used</td>\n",
       "      <td>214524.0</td>\n",
       "      <td>2800.0</td>\n",
       "      <td>Imported</td>\n",
       "      <td>Imported</td>\n",
       "    </tr>\n",
       "    <tr>\n",
       "      <th>...</th>\n",
       "      <td>...</td>\n",
       "      <td>...</td>\n",
       "      <td>...</td>\n",
       "      <td>...</td>\n",
       "      <td>...</td>\n",
       "      <td>...</td>\n",
       "      <td>...</td>\n",
       "      <td>...</td>\n",
       "      <td>...</td>\n",
       "      <td>...</td>\n",
       "      <td>...</td>\n",
       "      <td>...</td>\n",
       "      <td>...</td>\n",
       "    </tr>\n",
       "    <tr>\n",
       "      <th>3717</th>\n",
       "      <td>C4Ly76wwazrtbYRAWkTnv2Q5</td>\n",
       "      <td>1924000</td>\n",
       "      <td>Petrol</td>\n",
       "      <td>Automatic</td>\n",
       "      <td>Toyota</td>\n",
       "      <td>RAV4</td>\n",
       "      <td>2003</td>\n",
       "      <td>Red</td>\n",
       "      <td>Nigerian Used</td>\n",
       "      <td>282769.0</td>\n",
       "      <td>2000.0</td>\n",
       "      <td>Registered</td>\n",
       "      <td>Imported</td>\n",
       "    </tr>\n",
       "    <tr>\n",
       "      <th>3718</th>\n",
       "      <td>jPA7XlJJxdwpZStlurumw59q</td>\n",
       "      <td>1890000</td>\n",
       "      <td>Petrol</td>\n",
       "      <td>Automatic</td>\n",
       "      <td>Mercedes-Benz</td>\n",
       "      <td>M Class</td>\n",
       "      <td>2002</td>\n",
       "      <td>Silver</td>\n",
       "      <td>Nigerian Used</td>\n",
       "      <td>182544.0</td>\n",
       "      <td>3200.0</td>\n",
       "      <td>Registered</td>\n",
       "      <td>Registered</td>\n",
       "    </tr>\n",
       "    <tr>\n",
       "      <th>3719</th>\n",
       "      <td>g5szhuHeXu2djH1Z2be22G7E</td>\n",
       "      <td>1155000</td>\n",
       "      <td>Petrol</td>\n",
       "      <td>Automatic</td>\n",
       "      <td>Toyota</td>\n",
       "      <td>Camry</td>\n",
       "      <td>2000</td>\n",
       "      <td>Black</td>\n",
       "      <td>Nigerian Used</td>\n",
       "      <td>234354.0</td>\n",
       "      <td>2200.0</td>\n",
       "      <td>Registered</td>\n",
       "      <td>Registered</td>\n",
       "    </tr>\n",
       "    <tr>\n",
       "      <th>3720</th>\n",
       "      <td>mdZMNQK7Zez0cSS67Q9Quhzr</td>\n",
       "      <td>1260000</td>\n",
       "      <td>Petrol</td>\n",
       "      <td>Automatic</td>\n",
       "      <td>Toyota</td>\n",
       "      <td>RAV4</td>\n",
       "      <td>2001</td>\n",
       "      <td>Black</td>\n",
       "      <td>Nigerian Used</td>\n",
       "      <td>345926.0</td>\n",
       "      <td>2000.0</td>\n",
       "      <td>Registered</td>\n",
       "      <td>Registered</td>\n",
       "    </tr>\n",
       "    <tr>\n",
       "      <th>3721</th>\n",
       "      <td>fSUvulLwnXYlc1muFsrjrsAR</td>\n",
       "      <td>1872000</td>\n",
       "      <td>Petrol</td>\n",
       "      <td>Automatic</td>\n",
       "      <td>Honda</td>\n",
       "      <td>Civic</td>\n",
       "      <td>2007</td>\n",
       "      <td>Black</td>\n",
       "      <td>Nigerian Used</td>\n",
       "      <td>90330.0</td>\n",
       "      <td>1800.0</td>\n",
       "      <td>Registered</td>\n",
       "      <td>Registered</td>\n",
       "    </tr>\n",
       "  </tbody>\n",
       "</table>\n",
       "<p>2684 rows × 13 columns</p>\n",
       "</div>"
      ],
      "text/plain": [
       "                        car_id    price fuel_type  gear_type           make  \\\n",
       "0     icwAaDOmX573WiRRnLFPT237  2812500    Petrol  Automatic         Toyota   \n",
       "4      zIrIDPJLd46eRQf9JFacc0e  4160000    Petrol  Automatic           Ford   \n",
       "8     fYxBktHsYw4js3ZgJnHwl2zU  3885000    Petrol  Automatic         Toyota   \n",
       "10    p2ie9iYOamIlpP6wyVmKi3d5  3432000    Petrol  Automatic         Toyota   \n",
       "14    aa8nq9ZiuiVXOMzlxJvdOPUK  3990000    Diesel     Manual         Lancia   \n",
       "...                        ...      ...       ...        ...            ...   \n",
       "3717  C4Ly76wwazrtbYRAWkTnv2Q5  1924000    Petrol  Automatic         Toyota   \n",
       "3718  jPA7XlJJxdwpZStlurumw59q  1890000    Petrol  Automatic  Mercedes-Benz   \n",
       "3719  g5szhuHeXu2djH1Z2be22G7E  1155000    Petrol  Automatic         Toyota   \n",
       "3720  mdZMNQK7Zez0cSS67Q9Quhzr  1260000    Petrol  Automatic         Toyota   \n",
       "3721  fSUvulLwnXYlc1muFsrjrsAR  1872000    Petrol  Automatic          Honda   \n",
       "\n",
       "        Model  year_of_manufacture  colour      condition   mileage  \\\n",
       "0     Corolla                 2004  Silver  Nigerian Used  251732.0   \n",
       "4        Edge                 2013    Gray  Nigerian Used   92118.0   \n",
       "8       Camry                 2007    Gold   Foreign Used  159726.0   \n",
       "10      Camry                 2011   Black  Nigerian Used  128048.0   \n",
       "14     Thesis                 2007   White   Foreign Used  214524.0   \n",
       "...       ...                  ...     ...            ...       ...   \n",
       "3717     RAV4                 2003     Red  Nigerian Used  282769.0   \n",
       "3718  M Class                 2002  Silver  Nigerian Used  182544.0   \n",
       "3719    Camry                 2000   Black  Nigerian Used  234354.0   \n",
       "3720     RAV4                 2001   Black  Nigerian Used  345926.0   \n",
       "3721    Civic                 2007   Black  Nigerian Used   90330.0   \n",
       "\n",
       "      engine_size selling_condition bought_condition  \n",
       "0          1800.0        Registered       Registered  \n",
       "4          3500.0        Registered       Registered  \n",
       "8          3000.0          Imported         Imported  \n",
       "10         2500.0        Registered         Imported  \n",
       "14         2800.0          Imported         Imported  \n",
       "...           ...               ...              ...  \n",
       "3717       2000.0        Registered         Imported  \n",
       "3718       3200.0        Registered       Registered  \n",
       "3719       2200.0        Registered       Registered  \n",
       "3720       2000.0        Registered       Registered  \n",
       "3721       1800.0        Registered       Registered  \n",
       "\n",
       "[2684 rows x 13 columns]"
      ]
     },
     "execution_count": 131,
     "metadata": {},
     "output_type": "execute_result"
    }
   ],
   "source": [
    "cars_df[cars_df.price<5000000]"
   ]
  },
  {
   "cell_type": "markdown",
   "metadata": {},
   "source": [
    "The above boxplot shows the majority of used car prices in the dataset are less than 5 million naira"
   ]
  },
  {
   "cell_type": "markdown",
   "metadata": {},
   "source": [
    "**TODO** - Explore one or more columns by plotting a graph below, and add some explanation about it"
   ]
  },
  {
   "cell_type": "code",
   "execution_count": 31,
   "metadata": {
    "scrolled": true
   },
   "outputs": [
    {
     "data": {
      "text/plain": [
       "fuel_type\n",
       "Petrol      3550\n",
       "Hybrid        35\n",
       "Diesel        14\n",
       "Electric       1\n",
       "Name: fuel_type, dtype: int64"
      ]
     },
     "execution_count": 31,
     "metadata": {},
     "output_type": "execute_result"
    }
   ],
   "source": [
    "cars_df.groupby('fuel_type')['fuel_type'].count().sort_values(ascending=False)"
   ]
  },
  {
   "cell_type": "markdown",
   "metadata": {},
   "source": [
    "Out of 3600 samples of cars in the dataset, only 50 cars are not petrol fuel type"
   ]
  },
  {
   "cell_type": "code",
   "execution_count": 32,
   "metadata": {},
   "outputs": [
    {
     "data": {
      "image/png": "[encoded data removed]",
      "text/plain": [
       "<Figure size 648x360 with 1 Axes>"
      ]
     },
     "metadata": {
      "needs_background": "light"
     },
     "output_type": "display_data"
    }
   ],
   "source": [
    "cars_df.groupby('fuel_type')['fuel_type'].count().sort_values(ascending=False).plot(kind='bar')\n",
    "plt.title(\"Frequency of Cars By Fuel Type\");"
   ]
  },
  {
   "cell_type": "markdown",
   "metadata": {},
   "source": [
    "**TODO** - Explore one or more columns by plotting a graph below, and add some explanation about it"
   ]
  },
  {
   "cell_type": "code",
   "execution_count": 33,
   "metadata": {},
   "outputs": [
    {
     "data": {
      "text/plain": [
       "make\n",
       "Toyota           1565\n",
       "Honda             348\n",
       "Lexus             341\n",
       "Mercedes-Benz     282\n",
       "Hyundai           153\n",
       "Name: make, dtype: int64"
      ]
     },
     "execution_count": 33,
     "metadata": {},
     "output_type": "execute_result"
    }
   ],
   "source": [
    "cars_make=cars_df.groupby('make')['make'].count().sort_values(ascending=False)\n",
    "cars_make.head()"
   ]
  },
  {
   "cell_type": "code",
   "execution_count": 34,
   "metadata": {},
   "outputs": [
    {
     "data": {
      "text/plain": [
       "49"
      ]
     },
     "execution_count": 34,
     "metadata": {},
     "output_type": "execute_result"
    }
   ],
   "source": [
    "np.size(cars_df.make.unique())"
   ]
  },
  {
   "cell_type": "markdown",
   "metadata": {},
   "source": [
    "There are 49 unique car make in the data set"
   ]
  },
  {
   "cell_type": "markdown",
   "metadata": {},
   "source": [
    "**TODO** - Explore one or more columns by plotting a graph below, and add some explanation about it"
   ]
  },
  {
   "cell_type": "code",
   "execution_count": 35,
   "metadata": {},
   "outputs": [
    {
     "data": {
      "image/png": "[encoded data removed]",
      "text/plain": [
       "<Figure size 648x360 with 1 Axes>"
      ]
     },
     "metadata": {
      "needs_background": "light"
     },
     "output_type": "display_data"
    }
   ],
   "source": [
    "cars_df.colour.value_counts().plot(kind='bar')\n",
    "plt.ylabel(\"The no of cars\")\n",
    "plt.title(\"The Car distribution by Colours\");"
   ]
  },
  {
   "cell_type": "code",
   "execution_count": 36,
   "metadata": {
    "scrolled": true
   },
   "outputs": [
    {
     "data": {
      "text/plain": [
       "array(['Silver', 'Green', 'White', 'Gray', 'Red', 'Gold', 'Black', 'Blue',\n",
       "       'Brown', 'Beige', 'Burgandy', 'Purple', 'Pink', 'Off white',\n",
       "       'Teal', 'Ivory', 'Orange', 'Yellow'], dtype=object)"
      ]
     },
     "execution_count": 36,
     "metadata": {},
     "output_type": "execute_result"
    }
   ],
   "source": [
    "cars_df['colour'].unique()"
   ]
  },
  {
   "cell_type": "markdown",
   "metadata": {},
   "source": [
    "Black cars are the most common cars in the data set follow by Gray, silver, blue, white etc. While ivory is the least"
   ]
  },
  {
   "cell_type": "markdown",
   "metadata": {},
   "source": [
    "**TODO** - Explore one or more columns by plotting a graph below, and add some explanation about it"
   ]
  },
  {
   "cell_type": "code",
   "execution_count": 37,
   "metadata": {
    "scrolled": true
   },
   "outputs": [
    {
     "data": {
      "image/png": "[encoded data removed]",
      "text/plain": [
       "<Figure size 648x360 with 1 Axes>"
      ]
     },
     "metadata": {
      "needs_background": "light"
     },
     "output_type": "display_data"
    }
   ],
   "source": [
    "plt.scatter(y=cars_df.price, x=cars_df.mileage)\n",
    "plt.title(\"The Car Prices Distribution Vs Mileage\");"
   ]
  },
  {
   "cell_type": "markdown",
   "metadata": {},
   "source": [
    "The scatter graph shows that cars with low mileage have higher cost than those that have high mileage."
   ]
  },
  {
   "cell_type": "code",
   "execution_count": 132,
   "metadata": {},
   "outputs": [
    {
     "data": {
      "image/png": "[encoded data removed]",
      "text/plain": [
       "<Figure size 648x360 with 1 Axes>"
      ]
     },
     "metadata": {
      "needs_background": "light"
     },
     "output_type": "display_data"
    }
   ],
   "source": [
    " plt.scatter(y=cars_df.price[cars_df.mileage<500000], x=cars_df.mileage[cars_df.mileage<500000])  \n",
    "plt.title(\"Distribution of cars with mileage less than 500000\");"
   ]
  },
  {
   "cell_type": "markdown",
   "metadata": {},
   "source": [
    "Let us save and upload our work to Jovian before continuing"
   ]
  },
  {
   "cell_type": "code",
   "execution_count": 39,
   "metadata": {},
   "outputs": [],
   "source": [
    "import jovian"
   ]
  },
  {
   "cell_type": "code",
   "execution_count": 40,
   "metadata": {},
   "outputs": [
    {
     "data": {
      "application/javascript": [
       "window.require && require([\"base/js/namespace\"],function(Jupyter){Jupyter.notebook.save_checkpoint()})"
      ],
      "text/plain": [
       "<IPython.core.display.Javascript object>"
      ]
     },
     "metadata": {},
     "output_type": "display_data"
    },
    {
     "name": "stdout",
     "output_type": "stream",
     "text": [
      "[jovian] Updating notebook \"oladapomatthewkayode/analyzing-nigerian-car-features-and-prices\" on https://jovian.com\u001b[0m\n",
      "[jovian] Committed successfully! https://jovian.com/oladapomatthewkayode/analyzing-nigerian-car-features-and-prices\u001b[0m\n"
     ]
    },
    {
     "data": {
      "text/plain": [
       "'https://jovian.com/oladapomatthewkayode/analyzing-nigerian-car-features-and-prices'"
      ]
     },
     "execution_count": 40,
     "metadata": {},
     "output_type": "execute_result"
    }
   ],
   "source": [
    "jovian.commit()"
   ]
  },
  {
   "cell_type": "markdown",
   "metadata": {},
   "source": [
    "## Asking and Answering Questions\n",
    "\n",
    "TODO - write some explanation here.\n",
    "\n"
   ]
  },
  {
   "cell_type": "markdown",
   "metadata": {},
   "source": [
    "> Instructions (delete this cell)\n",
    ">\n",
    "> - Ask at least 5 interesting questions about your dataset\n",
    "> - Answer the questions either by computing the results using Numpy/Pandas or by plotting graphs using Matplotlib/Seaborn\n",
    "> - Create new columns, merge multiple dataset and perform grouping/aggregation wherever necessary\n",
    "> - Wherever you're using a library function from Pandas/Numpy/Matplotlib etc. explain briefly what it does\n",
    "\n"
   ]
  },
  {
   "cell_type": "markdown",
   "metadata": {},
   "source": [
    "#### Q1: TODO - what is the summary statistics of car prices less than 3 million naira"
   ]
  },
  {
   "cell_type": "code",
   "execution_count": 41,
   "metadata": {},
   "outputs": [
    {
     "data": {
      "text/plain": [
       "count    1.523000e+03\n",
       "mean     2.136973e+06\n",
       "std      5.413909e+05\n",
       "min      5.500000e+05\n",
       "25%      1.690000e+06\n",
       "50%      2.130000e+06\n",
       "75%      2.611000e+06\n",
       "max      2.992500e+06\n",
       "Name: price, dtype: float64"
      ]
     },
     "execution_count": 41,
     "metadata": {},
     "output_type": "execute_result"
    }
   ],
   "source": [
    "cars_less_than_3m = cars_df.price[cars_df.price<3000000]\n",
    "cars_less_than_3m.describe()"
   ]
  },
  {
   "cell_type": "markdown",
   "metadata": {},
   "source": [
    "75% of the car prices are less than 2.6 million naira. The average car price and median are almost the same."
   ]
  },
  {
   "cell_type": "code",
   "execution_count": 134,
   "metadata": {},
   "outputs": [
    {
     "data": {
      "image/png": "[encoded data removed]",
      "text/plain": [
       "<Figure size 648x360 with 1 Axes>"
      ]
     },
     "metadata": {
      "needs_background": "light"
     },
     "output_type": "display_data"
    }
   ],
   "source": [
    "#cars_less_than_3m.hist()\n",
    "sns.histplot(cars_less_than_3m, bins=10, kde=True)\n",
    "plt.title(\"Distribution of cars less than 3 million naira\");"
   ]
  },
  {
   "cell_type": "markdown",
   "metadata": {},
   "source": [
    "#### Q2: TODO - what is the percentage of nigerian used cars to foreign used cars of cars greater than 3million naira"
   ]
  },
  {
   "cell_type": "code",
   "execution_count": 56,
   "metadata": {},
   "outputs": [
    {
     "data": {
      "text/html": [
       "<div>\n",
       "<style scoped>\n",
       "    .dataframe tbody tr th:only-of-type {\n",
       "        vertical-align: middle;\n",
       "    }\n",
       "\n",
       "    .dataframe tbody tr th {\n",
       "        vertical-align: top;\n",
       "    }\n",
       "\n",
       "    .dataframe thead th {\n",
       "        text-align: right;\n",
       "    }\n",
       "</style>\n",
       "<table border=\"1\" class=\"dataframe\">\n",
       "  <thead>\n",
       "    <tr style=\"text-align: right;\">\n",
       "      <th></th>\n",
       "      <th>car_id</th>\n",
       "      <th>price</th>\n",
       "      <th>fuel_type</th>\n",
       "      <th>gear_type</th>\n",
       "      <th>make</th>\n",
       "      <th>Model</th>\n",
       "      <th>year_of_manufacture</th>\n",
       "      <th>colour</th>\n",
       "      <th>condition</th>\n",
       "      <th>mileage</th>\n",
       "      <th>engine_size</th>\n",
       "      <th>selling_condition</th>\n",
       "      <th>bought_condition</th>\n",
       "    </tr>\n",
       "  </thead>\n",
       "  <tbody>\n",
       "    <tr>\n",
       "      <th>1</th>\n",
       "      <td>ByZ3NlPy2x0arAIyrKazClUS</td>\n",
       "      <td>5000000</td>\n",
       "      <td>Petrol</td>\n",
       "      <td>Automatic</td>\n",
       "      <td>Acura</td>\n",
       "      <td>MDX</td>\n",
       "      <td>2007</td>\n",
       "      <td>Green</td>\n",
       "      <td>Foreign Used</td>\n",
       "      <td>224589.0</td>\n",
       "      <td>3700.0</td>\n",
       "      <td>Imported</td>\n",
       "      <td>Imported</td>\n",
       "    </tr>\n",
       "    <tr>\n",
       "      <th>2</th>\n",
       "      <td>2zG6Mh3kwyoTvWoeKHkV1oFH</td>\n",
       "      <td>7592000</td>\n",
       "      <td>Petrol</td>\n",
       "      <td>Automatic</td>\n",
       "      <td>Acura</td>\n",
       "      <td>TL</td>\n",
       "      <td>2012</td>\n",
       "      <td>White</td>\n",
       "      <td>Foreign Used</td>\n",
       "      <td>111334.0</td>\n",
       "      <td>3500.0</td>\n",
       "      <td>Imported</td>\n",
       "      <td>Imported</td>\n",
       "    </tr>\n",
       "    <tr>\n",
       "      <th>3</th>\n",
       "      <td>7APLHOPlI93qsYK0ST4D4wB2</td>\n",
       "      <td>9880000</td>\n",
       "      <td>Petrol</td>\n",
       "      <td>Automatic</td>\n",
       "      <td>Land Rover</td>\n",
       "      <td>Range Rover</td>\n",
       "      <td>2012</td>\n",
       "      <td>Gray</td>\n",
       "      <td>Nigerian Used</td>\n",
       "      <td>72682.0</td>\n",
       "      <td>4000.0</td>\n",
       "      <td>Registered</td>\n",
       "      <td>Imported</td>\n",
       "    </tr>\n",
       "    <tr>\n",
       "      <th>4</th>\n",
       "      <td>zIrIDPJLd46eRQf9JFacc0e</td>\n",
       "      <td>4160000</td>\n",
       "      <td>Petrol</td>\n",
       "      <td>Automatic</td>\n",
       "      <td>Ford</td>\n",
       "      <td>Edge</td>\n",
       "      <td>2013</td>\n",
       "      <td>Gray</td>\n",
       "      <td>Nigerian Used</td>\n",
       "      <td>92118.0</td>\n",
       "      <td>3500.0</td>\n",
       "      <td>Registered</td>\n",
       "      <td>Registered</td>\n",
       "    </tr>\n",
       "    <tr>\n",
       "      <th>5</th>\n",
       "      <td>cXCDdlfYhkTgnpxVlSqsiBWz</td>\n",
       "      <td>5250000</td>\n",
       "      <td>Petrol</td>\n",
       "      <td>Automatic</td>\n",
       "      <td>Acura</td>\n",
       "      <td>ZDX</td>\n",
       "      <td>2010</td>\n",
       "      <td>White</td>\n",
       "      <td>Nigerian Used</td>\n",
       "      <td>93991.0</td>\n",
       "      <td>3700.0</td>\n",
       "      <td>Registered</td>\n",
       "      <td>Imported</td>\n",
       "    </tr>\n",
       "  </tbody>\n",
       "</table>\n",
       "</div>"
      ],
      "text/plain": [
       "                     car_id    price fuel_type  gear_type        make  \\\n",
       "1  ByZ3NlPy2x0arAIyrKazClUS  5000000    Petrol  Automatic       Acura   \n",
       "2  2zG6Mh3kwyoTvWoeKHkV1oFH  7592000    Petrol  Automatic       Acura   \n",
       "3  7APLHOPlI93qsYK0ST4D4wB2  9880000    Petrol  Automatic  Land Rover   \n",
       "4   zIrIDPJLd46eRQf9JFacc0e  4160000    Petrol  Automatic        Ford   \n",
       "5  cXCDdlfYhkTgnpxVlSqsiBWz  5250000    Petrol  Automatic       Acura   \n",
       "\n",
       "         Model  year_of_manufacture colour      condition   mileage  \\\n",
       "1          MDX                 2007  Green   Foreign Used  224589.0   \n",
       "2           TL                 2012  White   Foreign Used  111334.0   \n",
       "3  Range Rover                 2012   Gray  Nigerian Used   72682.0   \n",
       "4         Edge                 2013   Gray  Nigerian Used   92118.0   \n",
       "5          ZDX                 2010  White  Nigerian Used   93991.0   \n",
       "\n",
       "   engine_size selling_condition bought_condition  \n",
       "1       3700.0          Imported         Imported  \n",
       "2       3500.0          Imported         Imported  \n",
       "3       4000.0        Registered         Imported  \n",
       "4       3500.0        Registered       Registered  \n",
       "5       3700.0        Registered         Imported  "
      ]
     },
     "execution_count": 56,
     "metadata": {},
     "output_type": "execute_result"
    }
   ],
   "source": [
    "cars_df_gt_than_3m= cars_df[cars_df.price>3000000]\n",
    "cars_df_gt_than_3m.head()"
   ]
  },
  {
   "cell_type": "code",
   "execution_count": 57,
   "metadata": {},
   "outputs": [
    {
     "data": {
      "text/plain": [
       "Nigerian Used    61.819933\n",
       "Foreign Used     38.131921\n",
       "Brand New         0.048146\n",
       "Name: condition, dtype: float64"
      ]
     },
     "execution_count": 57,
     "metadata": {},
     "output_type": "execute_result"
    }
   ],
   "source": [
    "cars_df_gt_than_3m.condition.value_counts(normalize=True)*100"
   ]
  },
  {
   "cell_type": "markdown",
   "metadata": {},
   "source": [
    "As we can see the Nigerian used cars make up 62%, while foriegn used cars make up 38% of the car prices greater than 3 million at cars45. There is one brand new car less than 3million naira"
   ]
  },
  {
   "cell_type": "code",
   "execution_count": 55,
   "metadata": {},
   "outputs": [
    {
     "data": {
      "image/png": "[encoded data removed]",
      "text/plain": [
       "<Figure size 648x360 with 1 Axes>"
      ]
     },
     "metadata": {},
     "output_type": "display_data"
    }
   ],
   "source": [
    "(cars_df_less_than_3m.condition.value_counts(normalize=True)*100).plot(kind='pie', autopct='%1.1f%%', startangle=180)\n",
    "plt.title(\" Condition of Cars less that 3 million naira\");"
   ]
  },
  {
   "cell_type": "markdown",
   "metadata": {},
   "source": [
    "#### Q3: TODO - what is the percentage distribution of Toyota cars which are more than 3 million naira?"
   ]
  },
  {
   "cell_type": "code",
   "execution_count": 77,
   "metadata": {},
   "outputs": [],
   "source": [
    "toyota_cars=cars_df_gt_than_3m[cars_df_gt_than_3m.make==\"Toyota\"]\n"
   ]
  },
  {
   "cell_type": "code",
   "execution_count": 80,
   "metadata": {},
   "outputs": [
    {
     "data": {
      "text/plain": [
       "Camry                 33.446712\n",
       "Corolla               20.634921\n",
       "Highlander            11.904762\n",
       "RAV4                   7.256236\n",
       "Sienna                 6.235828\n",
       "Venza                  5.668934\n",
       "Tacoma                 1.700680\n",
       "Hilux                  1.473923\n",
       "Matrix                 1.360544\n",
       "Land Cruiser Prado     1.247166\n",
       "4-Runner               1.247166\n",
       "Tundra                 1.133787\n",
       "Avalon                 1.133787\n",
       "Land Cruiser           1.020408\n",
       "HiAce                  0.680272\n",
       "Fortuner               0.566893\n",
       "Sequoia                0.566893\n",
       "Avensis                0.453515\n",
       "FJ Cruiser             0.453515\n",
       "Yaris                  0.453515\n",
       "Previa                 0.340136\n",
       "Corolla Altis          0.226757\n",
       "Solara                 0.226757\n",
       "Prius                  0.226757\n",
       "Avensis Verso          0.226757\n",
       "Corolla Verso          0.113379\n",
       "Name: Model, dtype: float64"
      ]
     },
     "execution_count": 80,
     "metadata": {},
     "output_type": "execute_result"
    }
   ],
   "source": [
    "toyota_cars.Model.value_counts(normalize=True)*100"
   ]
  },
  {
   "cell_type": "code",
   "execution_count": 98,
   "metadata": {
    "scrolled": true
   },
   "outputs": [
    {
     "data": {
      "image/png": "[encoded data removed]",
      "text/plain": [
       "<Figure size 1440x432 with 1 Axes>"
      ]
     },
     "metadata": {
      "needs_background": "light"
     },
     "output_type": "display_data"
    }
   ],
   "source": [
    "plt.figure(figsize=(20,6))\n",
    "toyota_cars.Model.value_counts().plot(kind=\"bar\"),\n",
    "plt.xlabel(\"Car Model\"),\n",
    "plt.ylabel(\"No. of cars\")\n",
    "plt.title(\"Distribution of Toyota cars\");"
   ]
  },
  {
   "cell_type": "markdown",
   "metadata": {},
   "source": [
    "Toyota camry cars make more than 33%, while corrola make upto 20%, \n",
    "Highlander is the next after corrolla which make upto 7% in the toyota cars more than 3 million naira"
   ]
  },
  {
   "cell_type": "markdown",
   "metadata": {},
   "source": [
    "#### Q4: TODO - what is the percentage distribution of cars according to their make whose price are more than 3 million naira"
   ]
  },
  {
   "cell_type": "code",
   "execution_count": 88,
   "metadata": {},
   "outputs": [
    {
     "data": {
      "text/plain": [
       "Toyota           42.465094\n",
       "Lexus            13.143958\n",
       "Mercedes-Benz    11.314396\n",
       "Honda             5.392393\n",
       "Ford              5.344247\n",
       "Hyundai           4.670197\n",
       "Nissan            2.262879\n",
       "Kia               2.022147\n",
       "Acura             1.974001\n",
       "Land Rover        1.829562\n",
       "BMW               1.685123\n",
       "Mazda             1.107366\n",
       "Mitsubishi        1.011074\n",
       "Volkswagen        0.770342\n",
       "Infiniti          0.770342\n",
       "Audi              0.674049\n",
       "Dodge             0.577756\n",
       "Pontiac           0.433317\n",
       "Jeep              0.385171\n",
       "Chevrolet         0.337025\n",
       "Cadillac          0.192585\n",
       "Peugeot           0.192585\n",
       "GMC               0.144439\n",
       "Mini              0.144439\n",
       "Subaru            0.144439\n",
       "Chrysler          0.144439\n",
       "Scion             0.096293\n",
       "Rover             0.096293\n",
       "Porsche           0.096293\n",
       "Volvo             0.096293\n",
       "Lincoln           0.048146\n",
       "Iveco             0.048146\n",
       "Mercury           0.048146\n",
       "Saturn            0.048146\n",
       "Suzuki            0.048146\n",
       "Bentley           0.048146\n",
       "GAC               0.048146\n",
       "Lancia            0.048146\n",
       "Renault           0.048146\n",
       "Jaguar            0.048146\n",
       "Name: make, dtype: float64"
      ]
     },
     "execution_count": 88,
     "metadata": {},
     "output_type": "execute_result"
    }
   ],
   "source": [
    "cars_df_gt_than_3m.make.value_counts(normalize=True)*100"
   ]
  },
  {
   "cell_type": "code",
   "execution_count": 94,
   "metadata": {},
   "outputs": [
    {
     "data": {
      "image/png": "[encoded data removed]",
      "text/plain": [
       "<Figure size 1440x432 with 1 Axes>"
      ]
     },
     "metadata": {
      "needs_background": "light"
     },
     "output_type": "display_data"
    }
   ],
   "source": [
    "plt.figure(figsize=(20,6))\n",
    "cars_df_gt_than_3m.make.value_counts().plot(kind=\"bar\")\n",
    "plt.xlabel(\"Car Make\"),\n",
    "plt.ylabel(\"No. of cars\")\n",
    "plt.title(\"Distribution of Cars By Make\");"
   ]
  },
  {
   "cell_type": "markdown",
   "metadata": {},
   "source": [
    "Toyota cars is the populous car make in this category with more than 42% while lexus occupy the second position with 13,14%. Mercedes-Benz and Honda occupy the 3rd and fourth position with   11.31 and 5.39 respectively\n",
    "Honda             5.392393"
   ]
  },
  {
   "cell_type": "markdown",
   "metadata": {},
   "source": [
    "#### Q5: TODO - How many toyota camry car of the year 2010 and above are less than 3 million naira"
   ]
  },
  {
   "cell_type": "code",
   "execution_count": 121,
   "metadata": {},
   "outputs": [
    {
     "name": "stderr",
     "output_type": "stream",
     "text": [
      "/tmp/ipykernel_57/2343593751.py:2: UserWarning: Boolean Series key will be reindexed to match DataFrame index.\n",
      "  camry_cars_lt_3m_yr_frm_2010=cars_lt_3m[cars_lt_3m.make==\"Toyota\"][cars_lt_3m.Model==\"Camry\"][cars_lt_3m.year_of_manufacture>=2010]\n"
     ]
    }
   ],
   "source": [
    "cars_lt_3m=cars_df[cars_df.price<3000000]\n",
    "camry_cars_lt_3m_yr_frm_2010=cars_lt_3m[cars_lt_3m.make==\"Toyota\"][cars_lt_3m.Model==\"Camry\"][cars_lt_3m.year_of_manufacture>=2010]"
   ]
  },
  {
   "cell_type": "code",
   "execution_count": 122,
   "metadata": {},
   "outputs": [
    {
     "name": "stdout",
     "output_type": "stream",
     "text": [
      "The no. of toyota camry cars of the year 2010 and above are less than 3 million naira 9\n"
     ]
    }
   ],
   "source": [
    "print(\"The no. of toyota camry cars of the year 2010 and above are less than 3 million naira\", \n",
    "      + \n",
    "len(camry_cars_lt_3m_yr_frm_2010))"
   ]
  },
  {
   "cell_type": "markdown",
   "metadata": {},
   "source": [
    "We can get 9 Toyota camry cars with year from 2010 and above whose price are less than 3 million naira"
   ]
  },
  {
   "cell_type": "markdown",
   "metadata": {},
   "source": [
    "Let us save and upload our work to Jovian before continuing."
   ]
  },
  {
   "cell_type": "code",
   "execution_count": 123,
   "metadata": {},
   "outputs": [],
   "source": [
    "import jovian"
   ]
  },
  {
   "cell_type": "code",
   "execution_count": 124,
   "metadata": {},
   "outputs": [
    {
     "data": {
      "application/javascript": [
       "window.require && require([\"base/js/namespace\"],function(Jupyter){Jupyter.notebook.save_checkpoint()})"
      ],
      "text/plain": [
       "<IPython.core.display.Javascript object>"
      ]
     },
     "metadata": {},
     "output_type": "display_data"
    },
    {
     "name": "stdout",
     "output_type": "stream",
     "text": [
      "[jovian] Updating notebook \"oladapomatthewkayode/analyzing-nigerian-car-features-and-prices\" on https://jovian.com\u001b[0m\n",
      "[jovian] Committed successfully! https://jovian.com/oladapomatthewkayode/analyzing-nigerian-car-features-and-prices\u001b[0m\n"
     ]
    },
    {
     "data": {
      "text/plain": [
       "'https://jovian.com/oladapomatthewkayode/analyzing-nigerian-car-features-and-prices'"
      ]
     },
     "execution_count": 124,
     "metadata": {},
     "output_type": "execute_result"
    }
   ],
   "source": [
    "jovian.commit()"
   ]
  },
  {
   "cell_type": "markdown",
   "metadata": {},
   "source": [
    "## Inferences and Conclusion\n",
    "\n",
    "**TODO** - Write some explanation here: a summary of all the inferences drawn from the analysis, and any conclusions you may have drawn by answering various questions.\n",
    "1. The prices of cars in the dataset ranges from 500,000 to 62400000. The mean is bigger than the median. 75% of the car prices are less than 5 million naira\n",
    "2. The prices in the dataset is skew to the right since the majority of the cars are less than 5 million naira\n",
    "3. Out of 3600 samples of cars in the dataset, only 50 cars are not petrol fuel type\n",
    "4. There are 49 unique car make in the data set\n",
    "5. Black cars are the most common cars in the data set follow by Gray, silver, blue, white etc. While ivory is the least\n",
    "6. The cars with low mileage have higher cost than those that have high mileage.\n",
    "7. In the subset of cars whose prices are less than 3 million naira; 75% of the car prices are less than 2.6 million naira. The average car price and median are almost the same.\n",
    "8. The Nigerian used cars make up 62%, while foriegn used cars make up 38% of the car prices greater than 3 million at cars45. There is one brand new car less than 3million naira\n",
    "9. Toyota camry cars make more than 33%, while corrola make upto 20%, Highlander is the next after corrolla which make upto 7% in the cars more than 3 million naira\n",
    "10. Toyota camry cars make more than 33%, while corrola make upto 20%, Highlander is the next after corrolla which make upto 7% in the toyota cars more than 3 million naira\n",
    "11. Toyota cars is the populous car make in this category with more than 42% while lexus occupy the second position with 13,14%. Mercedes-Benz and Honda occupy the 3rd and fourth position with 11.31 and 5.39 respectively Honda 5.392393\n",
    "12. We can get 9 Toyota camry cars with year from 2010 and above whose price are less than 3 million naira\n",
    "\n",
    "The dataset contains 3700+ cars and their prices in Naira. The data was web scraped from cars45, Nigeria's largest car sales website. The data contains features such as car make, model, year of manufacture, mileage, price, etc. \n",
    "I got the dataset from kaggle site by the user makindekayode. \n",
    "Special thanks to jovian for this free amazing skills I learnt from their platform\n"
   ]
  },
  {
   "cell_type": "code",
   "execution_count": null,
   "metadata": {},
   "outputs": [],
   "source": []
  },
  {
   "cell_type": "code",
   "execution_count": 135,
   "metadata": {},
   "outputs": [],
   "source": [
    "import jovian"
   ]
  },
  {
   "cell_type": "code",
   "execution_count": 136,
   "metadata": {},
   "outputs": [
    {
     "data": {
      "application/javascript": [
       "window.require && require([\"base/js/namespace\"],function(Jupyter){Jupyter.notebook.save_checkpoint()})"
      ],
      "text/plain": [
       "<IPython.core.display.Javascript object>"
      ]
     },
     "metadata": {},
     "output_type": "display_data"
    },
    {
     "name": "stdout",
     "output_type": "stream",
     "text": [
      "[jovian] Updating notebook \"oladapomatthewkayode/analyzing-nigerian-car-features-and-prices\" on https://jovian.com\u001b[0m\n",
      "[jovian] Committed successfully! https://jovian.com/oladapomatthewkayode/analyzing-nigerian-car-features-and-prices\u001b[0m\n"
     ]
    },
    {
     "data": {
      "text/plain": [
       "'https://jovian.com/oladapomatthewkayode/analyzing-nigerian-car-features-and-prices'"
      ]
     },
     "execution_count": 136,
     "metadata": {},
     "output_type": "execute_result"
    }
   ],
   "source": [
    "jovian.commit()"
   ]
  },
  {
   "cell_type": "markdown",
   "metadata": {},
   "source": [
    "## References and Future Work\n",
    "\n",
    "Check out the following resources to learn more about the dataset and tools used in this notebook:\n",
    "\n",
    "- https://www.kaggle.com/datasets/makindekayode/nigerian-car-prices-dataset\n",
    "- Pandas user guide: https://pandas.pydata.org/docs/user_guide/index.html\n",
    "- Matplotlib user guide: https://matplotlib.org/3.3.1/users/index.html\n",
    "- Seaborn user guide & tutorial: https://seaborn.pydata.org/tutorial.html\n",
    "- `opendatasets` Python library: https://github.com/JovianML/opendatasets\n",
    "\n",
    "As a next step, you can try out a project on another dataset of your choice: https://jovian.ml/aakashns/zerotopandas-course-project-starter ."
   ]
  },
  {
   "cell_type": "markdown",
   "metadata": {},
   "source": [
    "> Submission Instructions (delete this cell)\n",
    "> \n",
    "> - Upload your notebook to your Jovian.ml profile using `jovian.commit`.\n",
    "> - **Make a submission here**: https://jovian.ml/learn/data-analysis-with-python-zero-to-pandas/assignment/course-project\n",
    "> - Share your work on the forum: https://jovian.ml/forum/t/course-project-on-exploratory-data-analysis-discuss-and-share-your-work/11684\n",
    "> - Share your work on social media (Twitter, LinkedIn, Telegram etc.) and tag [@JovianML](https://twitter.com/jovianml)\n",
    ">\n",
    "> (Optional) Write a blog post\n",
    "> \n",
    "> - A blog post is a great way to present and showcase your work.  \n",
    "> - Sign up on [Medium.com](https://medium.com) to write a blog post for your project.\n",
    "> - Copy over the explanations from your Jupyter notebook into your blog post, and [embed code cells & outputs](https://medium.com/jovianml/share-and-embed-jupyter-notebooks-online-with-jovian-ml-df709a03064e)\n",
    "> - Check out the Jovian.ml Medium publication for inspiration: https://medium.com/jovianml\n",
    "\n",
    "\n",
    " "
   ]
  },
  {
   "cell_type": "code",
   "execution_count": 137,
   "metadata": {},
   "outputs": [],
   "source": [
    "import jovian"
   ]
  },
  {
   "cell_type": "code",
   "execution_count": 138,
   "metadata": {
    "scrolled": true
   },
   "outputs": [
    {
     "data": {
      "application/javascript": [
       "window.require && require([\"base/js/namespace\"],function(Jupyter){Jupyter.notebook.save_checkpoint()})"
      ],
      "text/plain": [
       "<IPython.core.display.Javascript object>"
      ]
     },
     "metadata": {},
     "output_type": "display_data"
    },
    {
     "name": "stdout",
     "output_type": "stream",
     "text": [
      "[jovian] Updating notebook \"oladapomatthewkayode/analyzing-nigerian-car-features-and-prices\" on https://jovian.com\u001b[0m\n",
      "[jovian] Committed successfully! https://jovian.com/oladapomatthewkayode/analyzing-nigerian-car-features-and-prices\u001b[0m\n"
     ]
    },
    {
     "data": {
      "text/plain": [
       "'https://jovian.com/oladapomatthewkayode/analyzing-nigerian-car-features-and-prices'"
      ]
     },
     "execution_count": 138,
     "metadata": {},
     "output_type": "execute_result"
    }
   ],
   "source": [
    "jovian.commit()"
   ]
  },
  {
   "cell_type": "code",
   "execution_count": null,
   "metadata": {},
   "outputs": [],
   "source": []
  }
 ],
 "metadata": {
  "kernelspec": {
   "display_name": "Python 3 (ipykernel)",
   "language": "python",
   "name": "python3"
  },
  "language_info": {
   "codemirror_mode": {
    "name": "ipython",
    "version": 3
   },
   "file_extension": ".py",
   "mimetype": "text/x-python",
   "name": "python",
   "nbconvert_exporter": "python",
   "pygments_lexer": "ipython3",
   "version": "3.9.7"
  }
 },
 "nbformat": 4,
 "nbformat_minor": 4
}
